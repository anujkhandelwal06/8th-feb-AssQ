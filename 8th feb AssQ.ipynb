{
 "cells": [
  {
   "cell_type": "code",
   "execution_count": null,
   "id": "bed5ce99-0442-48f9-a3e8-47965e7eb95b",
   "metadata": {},
   "outputs": [],
   "source": [
    "#Q1. What is Abstraction in OOps? Explain with an example.\n",
    "\n",
    "#Abstract class is used for skeleton and blueprint of code\n"
   ]
  },
  {
   "cell_type": "code",
   "execution_count": 1,
   "id": "1e6af948-8121-4e7e-af96-fb439a1163c5",
   "metadata": {},
   "outputs": [],
   "source": [
    "import abc \n",
    "class pwskills:\n",
    "    \n",
    "    @abc.abstractmethod\n",
    "    def students_details(self):\n",
    "        pass\n",
    "    \n",
    "    @abc.abstractmethod\n",
    "    def students_assignment(self):\n",
    "        pass\n",
    "    \n",
    "    @abc.abstractmethod\n",
    "    def students_marks(self):\n",
    "        pass"
   ]
  },
  {
   "cell_type": "code",
   "execution_count": 2,
   "id": "06896c61-7494-4b2b-8d31-b648dc374762",
   "metadata": {},
   "outputs": [],
   "source": [
    "class students_details(pwskills):\n",
    "    \n",
    "    def students_details(self):\n",
    "        return\"This is a method for taking students details\"\n",
    "    \n",
    "    def students_assignment(self):\n",
    "        return\"This is a method for assign details for a particular students\""
   ]
  },
  {
   "cell_type": "code",
   "execution_count": 3,
   "id": "fe3b5f14-b6b6-4b0b-a8e3-aa146713afb2",
   "metadata": {},
   "outputs": [],
   "source": [
    "class data_science_masters(pwskills):\n",
    "    \n",
    "    def students_details(self):\n",
    "        return\"This is will return a student details for data science masters\"\n",
    "    \n",
    "    def students_assignment(self):\n",
    "        return\"This will give you a student assign detailed for data science masters\""
   ]
  },
  {
   "cell_type": "code",
   "execution_count": 4,
   "id": "d630d0f3-11bc-4d05-87a6-93987bbf7aa0",
   "metadata": {},
   "outputs": [
    {
     "data": {
      "text/plain": [
       "'This is will return a student details for data science masters'"
      ]
     },
     "execution_count": 4,
     "metadata": {},
     "output_type": "execute_result"
    }
   ],
   "source": [
    "dsm = data_science_masters()\n",
    "dsm.students_details()"
   ]
  },
  {
   "cell_type": "code",
   "execution_count": 6,
   "id": "62d8258b-16c5-419c-977e-8c1dae1a8e72",
   "metadata": {},
   "outputs": [],
   "source": [
    "#Q2. Differentiate between Abstraction and Encapsulation. Explain with an example.\n",
    "\n",
    "#Abstract class is used for skeleton and blueprint of code.Abstraction refers to the process of hiding complex details and presenting only the essential features of an object. \n",
    "\n",
    "#Encapsulation:It describes the idea of wrapping data and the methods that work on data within one unit.This puts restrictions on accessing variables and methods directly and can prevent the accidental modification of data. To prevent accidental change, an object’s variable can only be changed by an object’s method. Those types of variables are known as private variables."
   ]
  },
  {
   "cell_type": "code",
   "execution_count": 8,
   "id": "3a28085f-30f7-4e70-ace9-f4f6c7a53958",
   "metadata": {},
   "outputs": [],
   "source": [
    "#Example For Abstraction: let's consider a car. A car has many complex details, such as an engine, wheels, transmission, and so on.\n",
    "#However, when we think about a car, we only care about its essential features, such as its ability to move, its speed, and its safety.\n",
    "#In OOP, we can create an abstract class called \"Vehicle\" that defines the essential features of a car, such as its ability to move, and leave out the complex details that are not relevant to our current purpose."
   ]
  },
  {
   "cell_type": "code",
   "execution_count": 7,
   "id": "5cfb8e13-c15d-4fa8-951b-b9348a626151",
   "metadata": {},
   "outputs": [],
   "source": [
    "#Example For Encapsulation: let's consider a bank account. A bank account has a balance, which is a sensitive piece of information that should not be modified directly by external code. Instead, the balance should be encapsulated within the bank account object, and a public interface should be provided for accessing and modifying the balance, such as deposit() and withdraw() methods. \n",
    "#This way, the internal state of the bank account object is protected from external code, and the object can maintain its integrity."
   ]
  },
  {
   "cell_type": "code",
   "execution_count": 9,
   "id": "1bd5a1fa-70d0-48a5-9f89-821bac748d25",
   "metadata": {},
   "outputs": [],
   "source": [
    "#Q3. What is abc module in python? Why is it used?\n",
    "\n",
    "#In Python , the 'abc' module stands for Abstract Base Classes.It is a module that provides the structure for defining abstact base classes,which are classes that cannot be instantiated directly, but are intended to be subclassed by other classes.\n",
    "#The abc module is used to enforce a particular design pattern in Python known as the \"Template Method\" pattern, which is a way of defining a skeleton of an algorithm in a base class and allowing subclasses to provide their own implementations for certain parts of the algorithm. \n",
    "#This pattern helps to reduce code duplication and increase code reuse."
   ]
  },
  {
   "cell_type": "code",
   "execution_count": 10,
   "id": "37ff3830-7105-4b10-beee-f788c9a8ac80",
   "metadata": {},
   "outputs": [],
   "source": [
    "#Q4. How can we achieve data abstraction?\n",
    "\n",
    "#In Python, we can achieve data abstraction by using classes and objects. \n",
    "#Data abstraction refers to the process of hiding complex implementation details from the user and providing a simplified interface for interacting with the data."
   ]
  },
  {
   "cell_type": "code",
   "execution_count": 15,
   "id": "c81c47b7-0b18-444a-a9e1-199d9bcaa099",
   "metadata": {},
   "outputs": [],
   "source": [
    "class bank_account : \n",
    "    \n",
    "    def __init__(self,balance):\n",
    "        self.balance = balance\n",
    "        \n",
    "    def deposit(self,amount):\n",
    "        self.balance += amount\n",
    "        \n",
    "    def withdraw(self,amount):\n",
    "        if self.balance >= amount:\n",
    "            \n",
    "            self.balance -= amount\n",
    "        else:\n",
    "            print(\"Insufficient funds\")\n",
    "            \n",
    "    def get_balance(self):\n",
    "        return self.balance"
   ]
  },
  {
   "cell_type": "code",
   "execution_count": 16,
   "id": "82d8920b-c6e0-41e7-89fb-e606a9426ca8",
   "metadata": {},
   "outputs": [
    {
     "name": "stdout",
     "output_type": "stream",
     "text": [
      "1300\n"
     ]
    }
   ],
   "source": [
    "account = bank_account(1000)\n",
    "account.deposit(500)\n",
    "account.withdraw(200)\n",
    "print(account.get_balance())"
   ]
  },
  {
   "cell_type": "code",
   "execution_count": 17,
   "id": "4fa2f7e6-805d-4ad1-b011-8675627a21b2",
   "metadata": {},
   "outputs": [],
   "source": [
    "#Q5. Can we create an instance of an abstract class? Explain your answer.\n",
    "\n",
    "#No, we cannot create an instance of an abstract class in Python. \n",
    "#An abstract class is a class that cannot be instantiated directly and is only intended to be subclassed by other classes.\n",
    "#The abstract class provides the structure and contract for the subclasses to follow, but it does not provide a concrete implementation for the methods.\n"
   ]
  },
  {
   "cell_type": "code",
   "execution_count": 18,
   "id": "ed172768-31d7-4e51-b2e1-a4bdef4ff85a",
   "metadata": {},
   "outputs": [
    {
     "ename": "TypeError",
     "evalue": "Can't instantiate abstract class Shape with abstract method area",
     "output_type": "error",
     "traceback": [
      "\u001b[0;31m---------------------------------------------------------------------------\u001b[0m",
      "\u001b[0;31mTypeError\u001b[0m                                 Traceback (most recent call last)",
      "Cell \u001b[0;32mIn[18], line 17\u001b[0m\n\u001b[1;32m     14\u001b[0m         \u001b[38;5;28;01mreturn\u001b[39;00m \u001b[38;5;28mself\u001b[39m\u001b[38;5;241m.\u001b[39mwidth \u001b[38;5;241m*\u001b[39m \u001b[38;5;28mself\u001b[39m\u001b[38;5;241m.\u001b[39mheight\n\u001b[1;32m     16\u001b[0m rect \u001b[38;5;241m=\u001b[39m Rectangle(\u001b[38;5;241m10\u001b[39m, \u001b[38;5;241m20\u001b[39m)  \u001b[38;5;66;03m# This is valid\u001b[39;00m\n\u001b[0;32m---> 17\u001b[0m shape \u001b[38;5;241m=\u001b[39m \u001b[43mShape\u001b[49m\u001b[43m(\u001b[49m\u001b[43m)\u001b[49m  \u001b[38;5;66;03m# This will raise a TypeError\u001b[39;00m\n",
      "\u001b[0;31mTypeError\u001b[0m: Can't instantiate abstract class Shape with abstract method area"
     ]
    }
   ],
   "source": [
    "from abc import ABC, abstractmethod\n",
    "\n",
    "class Shape(ABC):\n",
    "    @abstractmethod\n",
    "    def area(self):\n",
    "        pass\n",
    "\n",
    "class Rectangle(Shape):\n",
    "    def __init__(self, width, height):\n",
    "        self.width = width\n",
    "        self.height = height\n",
    "\n",
    "    def area(self):\n",
    "        return self.width * self.height\n",
    "\n",
    "rect = Rectangle(10, 20)  # This is valid\n",
    "shape = Shape()  # This will raise a TypeError\n",
    "\n"
   ]
  },
  {
   "cell_type": "code",
   "execution_count": null,
   "id": "8d407a51-7937-436e-bcd9-679f76dad18d",
   "metadata": {},
   "outputs": [],
   "source": []
  }
 ],
 "metadata": {
  "kernelspec": {
   "display_name": "Python 3 (ipykernel)",
   "language": "python",
   "name": "python3"
  },
  "language_info": {
   "codemirror_mode": {
    "name": "ipython",
    "version": 3
   },
   "file_extension": ".py",
   "mimetype": "text/x-python",
   "name": "python",
   "nbconvert_exporter": "python",
   "pygments_lexer": "ipython3",
   "version": "3.10.8"
  }
 },
 "nbformat": 4,
 "nbformat_minor": 5
}
